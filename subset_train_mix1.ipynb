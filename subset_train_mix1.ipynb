{
 "cells": [
  {
   "cell_type": "code",
   "execution_count": 1,
   "metadata": {
    "collapsed": true
   },
   "outputs": [],
   "source": [
    "a<-read.csv(\"Train_Match_1.csv\")"
   ]
  },
  {
   "cell_type": "code",
   "execution_count": 2,
   "metadata": {
    "collapsed": false
   },
   "outputs": [
    {
     "name": "stderr",
     "output_type": "stream",
     "text": [
      "\n",
      "Attaching package: ‘dplyr’\n",
      "\n",
      "The following objects are masked from ‘package:stats’:\n",
      "\n",
      "    filter, lag\n",
      "\n",
      "The following objects are masked from ‘package:base’:\n",
      "\n",
      "    intersect, setdiff, setequal, union\n",
      "\n",
      "\n",
      "Attaching package: ‘tidyr’\n",
      "\n",
      "The following object is masked from ‘package:magrittr’:\n",
      "\n",
      "    extract\n",
      "\n"
     ]
    }
   ],
   "source": [
    "library(dplyr)\n",
    "library(magrittr)\n",
    "library(tidyr)"
   ]
  },
  {
   "cell_type": "code",
   "execution_count": 3,
   "metadata": {
    "collapsed": false
   },
   "outputs": [
    {
     "name": "stdout",
     "output_type": "stream",
     "text": [
      "Observations: 1,236\n",
      "Variables: 196\n",
      "$ recordid (int) 3, 4, 5, 9, 14, 19, 34, 39, 44, 49, 54, 59, 64, 69, 72, 73...\n",
      "$ iid      (int) 1, 1, 1, 1, 2, 2, 4, 4, 5, 5, 6, 6, 7, 7, 8, 8, 8, 8, 8, 8...\n",
      "$ id       (int) 1, 1, 1, 1, 2, 2, 4, 4, 5, 5, 6, 6, 7, 7, 8, 8, 8, 8, 8, 8...\n",
      "$ gender   (int) 0, 0, 0, 0, 0, 0, 0, 0, 0, 0, 0, 0, 0, 0, 0, 0, 0, 0, 0, 0...\n",
      "$ idg      (int) 1, 1, 1, 1, 3, 3, 7, 7, 9, 9, 11, 11, 13, 13, 15, 15, 15, ...\n",
      "$ condtn   (int) 1, 1, 1, 1, 1, 1, 1, 1, 1, 1, 1, 1, 1, 1, 1, 1, 1, 1, 1, 1...\n",
      "$ wave     (int) 1, 1, 1, 1, 1, 1, 1, 1, 1, 1, 1, 1, 1, 1, 1, 1, 1, 1, 1, 1...\n",
      "$ round    (int) 10, 10, 10, 10, 10, 10, 10, 10, 10, 10, 10, 10, 10, 10, 10...\n",
      "$ position (int) 7, 7, 7, 7, 3, 3, 6, 6, 4, 4, 8, 8, 5, 5, 10, 10, 10, 10, ...\n",
      "$ positin1 (int) NA, NA, NA, NA, NA, NA, NA, NA, NA, NA, NA, NA, NA, NA, NA...\n",
      "$ order    (int) 10, 5, 7, 8, 1, 4, 4, 7, 2, 5, 6, 9, 3, 6, 6, 3, 8, 10, 9,...\n",
      "$ partner  (int) 3, 4, 5, 9, 4, 9, 4, 9, 4, 9, 4, 9, 4, 9, 2, 3, 4, 5, 6, 8...\n",
      "$ pid      (int) 13, 14, 15, 19, 14, 19, 14, 19, 14, 19, 14, 19, 14, 19, 12...\n",
      "$ match    (int) 1, 1, 1, 1, 1, 1, 1, 1, 1, 1, 1, 1, 1, 1, 1, 1, 1, 1, 1, 1...\n",
      "$ int_corr (dbl) 0.16, 0.61, 0.21, 0.28, -0.21, 0.11, -0.18, -0.47, 0.08, -...\n",
      "$ samerace (int) 1, 0, 0, 0, 1, 1, 1, 1, 1, 1, 0, 0, 0, 0, 1, 0, 1, 0, 1, 1...\n",
      "$ age_o    (int) 22, 23, 24, 28, 23, 28, 23, 28, 23, 28, 23, 28, 23, 28, 22...\n",
      "$ race_o   (int) 4, 2, 3, 2, 2, 2, 2, 2, 2, 2, 2, 2, 2, 2, 2, 4, 2, 3, 2, 2...\n",
      "$ pf_o_att (dbl) 19.00, 30.00, 30.00, 50.00, 30.00, 50.00, 30.00, 50.00, 30...\n",
      "$ pf_o_sin (dbl) 18.00, 5.00, 10.00, 0.00, 5.00, 0.00, 5.00, 0.00, 5.00, 0....\n",
      "$ pf_o_int (dbl) 19.00, 15.00, 20.00, 25.00, 15.00, 25.00, 15.00, 25.00, 15...\n",
      "$ pf_o_fun (dbl) 18.00, 40.00, 10.00, 10.00, 40.00, 10.00, 40.00, 10.00, 40...\n",
      "$ pf_o_amb (dbl) 14.00, 5.00, 10.00, 0.00, 5.00, 0.00, 5.00, 0.00, 5.00, 0....\n",
      "$ pf_o_sha (dbl) 12.00, 5.00, 20.00, 15.00, 5.00, 15.00, 5.00, 15.00, 5.00,...\n",
      "$ dec_o    (int) 1, 1, 1, 1, 1, 1, 1, 1, 1, 1, 1, 1, 1, 1, 1, 1, 1, 1, 1, 1...\n",
      "$ attr_o   (dbl) 10, 7, 8, 7, 9, 8, 7, 7, 6, 5, 6, 6, 8, 9, 8, 10, 8, 9, 8,...\n",
      "$ sinc_o   (int) 10, 8, 7, 7, 9, 6, 7, 7, 8, 9, 8, 7, 8, 7, 8, 10, 8, 9, 7,...\n",
      "$ intel_o  (dbl) 10, 9, 9, 8, 9, 9, 7, 7, 6, 9, 8, 7, 9, 9, 10, 10, 8, 8, 7...\n",
      "$ fun_o    (dbl) 10, 8, 6, 8, 9, 9, 9, 10, 8, 9, 7, 6, 8, 9, 7, 10, 8, 9, 7...\n",
      "$ amb_o    (dbl) 10, 9, 9, 8, 9, 8, 9, 9, 10, 9, 9, 6, 9, 9, 6, 10, 8, NA, ...\n",
      "$ shar_o   (dbl) 10, 8, 7, 9, 9, 7, 9, 10, 10, 6, 8, 6, 9, 10, 5, 10, 7, 7,...\n",
      "$ like_o   (dbl) 10.0, 7.0, 8.0, 6.5, 9.0, 8.0, 8.0, 8.0, 7.0, 7.0, 7.0, 6....\n",
      "$ prob_o   (dbl) 10, 7, 6, 8, 7, 8, 10, 8, 7, 7, 7, 6, 7, 9, 4, 10, 7, 7, 6...\n",
      "$ met_o    (int) 1, 2, 2, 2, 2, 2, 1, 2, 1, 2, 2, 2, 1, 2, 2, 2, 2, 2, 2, 2...\n",
      "$ age      (int) 21, 21, 21, 21, 24, 24, 23, 23, 21, 21, 23, 23, 22, 22, 25...\n",
      "$ field    (fctr) Law, Law, Law, Law, law, law, Law, Law, Law, Law, law, la...\n",
      "$ field_cd (int) 1, 1, 1, 1, 1, 1, 1, 1, 1, 1, 1, 1, 1, 1, 13, 13, 13, 13, ...\n",
      "$ undergra (fctr) , , , , , , , , , , , , , , , , , , , , , , , , , \n",
      "$ mn_sat   (fctr) , , , , , , , , , , , , , , , , , , , , , , , , , \n",
      "$ tuition  (fctr) , , , , , , , , , , , , , , , , , , , , , , , , , \n",
      "$ race     (int) 4, 4, 4, 4, 2, 2, 2, 2, 2, 2, 4, 4, 4, 4, 2, 2, 2, 2, 2, 2...\n",
      "$ imprace  (int) 2, 2, 2, 2, 2, 2, 1, 1, 8, 8, 1, 1, 2, 2, 1, 1, 1, 1, 1, 1...\n",
      "$ imprelig (int) 4, 4, 4, 4, 5, 5, 1, 1, 1, 1, 1, 1, 4, 4, 1, 1, 1, 1, 1, 1...\n",
      "$ from     (fctr) Chicago, Chicago, Chicago, Chicago, Alabama, Alabama, Tex...\n",
      "$ zipcode  (fctr) 60,521, 60,521, 60,521, 60,521, 35,223, 35,223, 77,096, 7...\n",
      "$ income   (fctr) 69,487.00, 69,487.00, 69,487.00, 69,487.00, 65,929.00, 65...\n",
      "$ goal     (int) 2, 2, 2, 2, 1, 1, 1, 1, 2, 2, 1, 1, 1, 1, 1, 1, 1, 1, 1, 1...\n",
      "$ date     (int) 7, 7, 7, 7, 5, 5, 5, 5, 4, 4, 3, 3, 5, 5, 5, 5, 5, 5, 5, 5...\n",
      "$ go_out   (int) 1, 1, 1, 1, 1, 1, 1, 1, 1, 1, 1, 1, 1, 1, 1, 1, 1, 1, 1, 1...\n",
      "$ career   (fctr) lawyer, lawyer, lawyer, lawyer, law, law, lawyer/policy w...\n",
      "$ career_c (int) NA, NA, NA, NA, NA, NA, 1, 1, 1, 1, 1, 1, 1, 1, 6, 6, 6, 6...\n",
      "$ sports   (int) 9, 9, 9, 9, 3, 3, 1, 1, 7, 7, 10, 10, 5, 5, 2, 2, 2, 2, 2,...\n",
      "$ tvsports (int) 2, 2, 2, 2, 2, 2, 1, 1, 4, 4, 8, 8, 3, 3, 2, 2, 2, 2, 2, 2...\n",
      "$ exercise (int) 8, 8, 8, 8, 7, 7, 6, 6, 7, 7, 9, 9, 4, 4, 1, 1, 1, 1, 1, 1...\n",
      "$ dining   (int) 9, 9, 9, 9, 10, 10, 7, 7, 7, 7, 7, 7, 10, 10, 10, 10, 10, ...\n",
      "$ museums  (int) 1, 1, 1, 1, 8, 8, 6, 6, 6, 6, 8, 8, 10, 10, 9, 9, 9, 9, 9,...\n",
      "$ art      (int) 1, 1, 1, 1, 6, 6, 7, 7, 8, 8, 7, 7, 10, 10, 9, 9, 9, 9, 9,...\n",
      "$ hiking   (int) 5, 5, 5, 5, 3, 3, 7, 7, 6, 6, 9, 9, 2, 2, 3, 3, 3, 3, 3, 3...\n",
      "$ gaming   (int) 1, 1, 1, 1, 5, 5, 5, 5, 6, 6, 2, 2, 3, 3, 2, 2, 2, 2, 2, 2...\n",
      "$ clubbing (int) 5, 5, 5, 5, 8, 8, 7, 7, 8, 8, 6, 6, 8, 8, 10, 10, 10, 10, ...\n",
      "$ reading  (int) 6, 6, 6, 6, 10, 10, 7, 7, 6, 6, 9, 9, 8, 8, 8, 8, 8, 8, 8,...\n",
      "$ tv       (int) 9, 9, 9, 9, 1, 1, 7, 7, 8, 8, 2, 2, 8, 8, 10, 10, 10, 10, ...\n",
      "$ theater  (int) 1, 1, 1, 1, 9, 9, 9, 9, 6, 6, 5, 5, 10, 10, 9, 9, 9, 9, 9,...\n",
      "$ movies   (int) 10, 10, 10, 10, 8, 8, 7, 7, 6, 6, 6, 6, 10, 10, 9, 9, 9, 9...\n",
      "$ concerts (int) 10, 10, 10, 10, 7, 7, 8, 8, 3, 3, 6, 6, 10, 10, 6, 6, 6, 6...\n",
      "$ music    (int) 9, 9, 9, 9, 8, 8, 7, 7, 7, 7, 4, 4, 10, 10, 6, 6, 6, 6, 6,...\n",
      "$ shopping (int) 8, 8, 8, 8, 3, 3, 1, 1, 8, 8, 1, 1, 10, 10, 8, 8, 8, 8, 8,...\n",
      "$ yoga     (int) 1, 1, 1, 1, 1, 1, 8, 8, 3, 3, 1, 1, 10, 10, 6, 6, 6, 6, 6,...\n",
      "$ exphappy (int) 3, 3, 3, 3, 4, 4, 1, 1, 7, 7, 4, 4, 7, 7, 6, 6, 6, 6, 6, 6...\n",
      "$ expnum   (int) 2, 2, 2, 2, 5, 5, 2, 2, 10, 10, 3, 3, 3, 3, 10, 10, 10, 10...\n",
      "$ attr1_1  (dbl) 15.00, 15.00, 15.00, 15.00, 45.00, 45.00, 20.00, 20.00, 20...\n",
      "$ sinc1_1  (dbl) 20.00, 20.00, 20.00, 20.00, 5.00, 5.00, 20.00, 20.00, 5.00...\n",
      "$ intel1_1 (dbl) 20.00, 20.00, 20.00, 20.00, 25.00, 25.00, 20.00, 20.00, 25...\n",
      "$ fun1_1   (dbl) 15.00, 15.00, 15.00, 15.00, 20.00, 20.00, 20.00, 20.00, 25...\n",
      "$ amb1_1   (dbl) 15.00, 15.00, 15.00, 15.00, 0.00, 0.00, 10.00, 10.00, 10.0...\n",
      "$ shar1_1  (dbl) 15.00, 15.00, 15.00, 15.00, 5.00, 5.00, 10.00, 10.00, 15.0...\n",
      "$ attr4_1  (int) NA, NA, NA, NA, NA, NA, NA, NA, NA, NA, NA, NA, NA, NA, NA...\n",
      "$ sinc4_1  (int) NA, NA, NA, NA, NA, NA, NA, NA, NA, NA, NA, NA, NA, NA, NA...\n",
      "$ intel4_1 (int) NA, NA, NA, NA, NA, NA, NA, NA, NA, NA, NA, NA, NA, NA, NA...\n",
      "$ fun4_1   (int) NA, NA, NA, NA, NA, NA, NA, NA, NA, NA, NA, NA, NA, NA, NA...\n",
      "$ amb4_1   (int) NA, NA, NA, NA, NA, NA, NA, NA, NA, NA, NA, NA, NA, NA, NA...\n",
      "$ shar4_1  (int) NA, NA, NA, NA, NA, NA, NA, NA, NA, NA, NA, NA, NA, NA, NA...\n",
      "$ attr2_1  (dbl) 35, 35, 35, 35, 65, 65, 30, 30, 50, 50, 25, 25, 30, 30, 30...\n",
      "$ sinc2_1  (dbl) 20, 20, 20, 20, 0, 0, 10, 10, 10, 10, 10, 10, 12, 12, 10, ...\n",
      "$ intel2_1 (dbl) 15, 15, 15, 15, 10, 10, 15, 15, 10, 10, 10, 10, 13, 13, 20...\n",
      "$ fun2_1   (dbl) 20, 20, 20, 20, 25, 25, 30, 30, 20, 20, 25, 25, 25, 25, 30...\n",
      "$ amb2_1   (dbl) 5, 5, 5, 5, 0, 0, 5, 5, 5, 5, 10, 10, 10, 10, 5, 5, 5, 5, ...\n",
      "$ shar2_1  (dbl) 5, 5, 5, 5, 0, 0, 10, 10, 5, 5, 20, 20, 10, 10, 5, 5, 5, 5...\n",
      "$ attr3_1  (int) 6, 6, 6, 6, 7, 7, 7, 7, 6, 6, 5, 5, 6, 6, 7, 7, 7, 7, 7, 7...\n",
      "$ sinc3_1  (int) 8, 8, 8, 8, 5, 5, 8, 8, 3, 3, 7, 7, 6, 6, 4, 4, 4, 4, 4, 4...\n",
      "$ fun3_1   (int) 8, 8, 8, 8, 10, 10, 9, 9, 6, 6, 8, 8, 5, 5, 8, 8, 8, 8, 8,...\n",
      "$ intel3_1 (int) 8, 8, 8, 8, 8, 8, 7, 7, 10, 10, 9, 9, 7, 7, 8, 8, 8, 8, 8,...\n",
      "$ amb3_1   (int) 7, 7, 7, 7, 3, 3, 8, 8, 8, 8, 5, 5, 7, 7, 8, 8, 8, 8, 8, 8...\n",
      "$ attr5_1  (int) NA, NA, NA, NA, NA, NA, NA, NA, NA, NA, NA, NA, NA, NA, NA...\n",
      "$ sinc5_1  (int) NA, NA, NA, NA, NA, NA, NA, NA, NA, NA, NA, NA, NA, NA, NA...\n",
      "$ intel5_1 (int) NA, NA, NA, NA, NA, NA, NA, NA, NA, NA, NA, NA, NA, NA, NA...\n",
      "$ fun5_1   (int) NA, NA, NA, NA, NA, NA, NA, NA, NA, NA, NA, NA, NA, NA, NA...\n",
      "$ amb5_1   (int) NA, NA, NA, NA, NA, NA, NA, NA, NA, NA, NA, NA, NA, NA, NA...\n",
      "$ dec      (int) 1, 1, 1, 1, 1, 1, 1, 1, 1, 1, 1, 1, 1, 1, 1, 1, 1, 1, 1, 1...\n",
      "$ attr     (dbl) 5, 7, 5, 7, 7, 7, 8, 9, 8, 7, 8, 7, 7, 6, 8, 5, 8, 6, 6, 5...\n",
      "$ sinc     (int) 8, 6, 6, 6, 9, 6, 10, 8, 5, 5, 6, 6, 8, 6, 7, 8, 6, 8, 8, ...\n",
      "$ intel    (dbl) 9, 8, 7, 8, 7, 8, 7, 10, 5, 7, 7, 8, 8, 8, 7, 8, 5, 8, 8, ...\n",
      "$ fun      (dbl) 8, 7, 7, 9, 6, 9, 10, 10, 7, 8, 8, 8, 7, 8, 9, 6, 6, 5, 5,...\n",
      "$ amb      (dbl) 5, 6, 6, 8, 5, 4, 7, 7, 7, 7, 2, 6, 7, 8, 6, 7, 6, 6, 6, 5...\n",
      "$ shar     (dbl) 7, 8, 6, 8, 7, 5, 10, 8, 9, 9, 8, 9, 6, 6, 7, 7, 5, 7, 7, ...\n",
      "$ like     (dbl) 7, 7, 6, 7, 7, 5, 8, 8, 8, 9, 9, 9, 8, 6, 8, 5, 5, 6, 6, 5...\n",
      "$ prob     (dbl) NA, 6, 6, 7, 8, 6, 10, 8, 2, 4, 4, 6, 6, 6, 7, 5, 6, 5, 5,...\n",
      "$ met      (int) 1, 2, 2, 2, 2, 2, 1, 2, 1, 2, 2, 2, 1, 2, 2, 2, 2, 2, 2, 2...\n",
      "$ match_es (dbl) 4, 4, 4, 4, 3, 3, 2, 2, NA, NA, 4, 4, 2, 2, NA, NA, NA, NA...\n",
      "$ attr1_s  (dbl) NA, NA, NA, NA, NA, NA, NA, NA, NA, NA, NA, NA, NA, NA, NA...\n",
      "$ sinc1_s  (dbl) NA, NA, NA, NA, NA, NA, NA, NA, NA, NA, NA, NA, NA, NA, NA...\n",
      "$ intel1_s (dbl) NA, NA, NA, NA, NA, NA, NA, NA, NA, NA, NA, NA, NA, NA, NA...\n",
      "$ fun1_s   (dbl) NA, NA, NA, NA, NA, NA, NA, NA, NA, NA, NA, NA, NA, NA, NA...\n",
      "$ amb1_s   (dbl) NA, NA, NA, NA, NA, NA, NA, NA, NA, NA, NA, NA, NA, NA, NA...\n",
      "$ shar1_s  (dbl) NA, NA, NA, NA, NA, NA, NA, NA, NA, NA, NA, NA, NA, NA, NA...\n",
      "$ attr3_s  (dbl) NA, NA, NA, NA, NA, NA, NA, NA, NA, NA, NA, NA, NA, NA, NA...\n",
      "$ sinc3_s  (int) NA, NA, NA, NA, NA, NA, NA, NA, NA, NA, NA, NA, NA, NA, NA...\n",
      "$ intel3_s (dbl) NA, NA, NA, NA, NA, NA, NA, NA, NA, NA, NA, NA, NA, NA, NA...\n",
      "$ fun3_s   (int) NA, NA, NA, NA, NA, NA, NA, NA, NA, NA, NA, NA, NA, NA, NA...\n",
      "$ amb3_s   (int) NA, NA, NA, NA, NA, NA, NA, NA, NA, NA, NA, NA, NA, NA, NA...\n",
      "$ satis_2  (int) 6, 6, 6, 6, 5, 5, 4, 4, 7, 7, 3, 3, NA, NA, NA, NA, NA, NA...\n",
      "$ length   (int) 2, 2, 2, 2, 2, 2, 3, 3, 2, 2, 3, 3, NA, NA, NA, NA, NA, NA...\n",
      "$ numdat_2 (int) 1, 1, 1, 1, NA, NA, 2, 2, 2, 2, 2, 2, NA, NA, NA, NA, NA, ...\n",
      "$ attr7_2  (int) NA, NA, NA, NA, NA, NA, NA, NA, NA, NA, NA, NA, NA, NA, NA...\n",
      "$ sinc7_2  (int) NA, NA, NA, NA, NA, NA, NA, NA, NA, NA, NA, NA, NA, NA, NA...\n",
      "$ intel7_2 (int) NA, NA, NA, NA, NA, NA, NA, NA, NA, NA, NA, NA, NA, NA, NA...\n",
      "$ fun7_2   (int) NA, NA, NA, NA, NA, NA, NA, NA, NA, NA, NA, NA, NA, NA, NA...\n",
      "$ amb7_2   (int) NA, NA, NA, NA, NA, NA, NA, NA, NA, NA, NA, NA, NA, NA, NA...\n",
      "$ shar7_2  (int) NA, NA, NA, NA, NA, NA, NA, NA, NA, NA, NA, NA, NA, NA, NA...\n",
      "$ attr1_2  (dbl) 19.44, 19.44, 19.44, 19.44, 18.92, 18.92, 24.14, 24.14, 15...\n",
      "$ sinc1_2  (dbl) 16.67, 16.67, 16.67, 16.67, 18.92, 18.92, 13.79, 13.79, 13...\n",
      "$ intel1_2 (dbl) 13.89, 13.89, 13.89, 13.89, 21.62, 21.62, 20.69, 20.69, 18...\n",
      "$ fun1_2   (dbl) 22.22, 22.22, 22.22, 22.22, 27.03, 27.03, 27.59, 27.59, 15...\n",
      "$ amb1_2   (dbl) 11.11, 11.11, 11.11, 11.11, 5.41, 5.41, 10.34, 10.34, 15.7...\n",
      "$ shar1_2  (dbl) 16.67, 16.67, 16.67, 16.67, 8.11, 8.11, 3.45, 3.45, 21.05,...\n",
      "$ attr4_2  (int) NA, NA, NA, NA, NA, NA, NA, NA, NA, NA, NA, NA, NA, NA, NA...\n",
      "$ sinc4_2  (int) NA, NA, NA, NA, NA, NA, NA, NA, NA, NA, NA, NA, NA, NA, NA...\n",
      "$ intel4_2 (int) NA, NA, NA, NA, NA, NA, NA, NA, NA, NA, NA, NA, NA, NA, NA...\n",
      "$ fun4_2   (int) NA, NA, NA, NA, NA, NA, NA, NA, NA, NA, NA, NA, NA, NA, NA...\n",
      "$ amb4_2   (int) NA, NA, NA, NA, NA, NA, NA, NA, NA, NA, NA, NA, NA, NA, NA...\n",
      "$ shar4_2  (int) NA, NA, NA, NA, NA, NA, NA, NA, NA, NA, NA, NA, NA, NA, NA...\n",
      "$ attr2_2  (dbl) NA, NA, NA, NA, NA, NA, NA, NA, NA, NA, NA, NA, NA, NA, NA...\n",
      "$ sinc2_2  (dbl) NA, NA, NA, NA, NA, NA, NA, NA, NA, NA, NA, NA, NA, NA, NA...\n",
      "$ intel2_2 (dbl) NA, NA, NA, NA, NA, NA, NA, NA, NA, NA, NA, NA, NA, NA, NA...\n",
      "$ fun2_2   (dbl) NA, NA, NA, NA, NA, NA, NA, NA, NA, NA, NA, NA, NA, NA, NA...\n",
      "$ amb2_2   (dbl) NA, NA, NA, NA, NA, NA, NA, NA, NA, NA, NA, NA, NA, NA, NA...\n",
      "$ shar2_2  (dbl) NA, NA, NA, NA, NA, NA, NA, NA, NA, NA, NA, NA, NA, NA, NA...\n",
      "$ attr3_2  (int) 6, 6, 6, 6, 7, 7, 6, 6, 6, 6, 5, 5, NA, NA, NA, NA, NA, NA...\n",
      "$ sinc3_2  (int) 7, 7, 7, 7, 6, 6, 8, 8, 6, 6, 8, 8, NA, NA, NA, NA, NA, NA...\n",
      "$ intel3_2 (int) 8, 8, 8, 8, 8, 8, 7, 7, 9, 9, 9, 9, NA, NA, NA, NA, NA, NA...\n",
      "$ fun3_2   (int) 7, 7, 7, 7, 9, 9, 8, 8, 9, 9, 8, 8, NA, NA, NA, NA, NA, NA...\n",
      "$ amb3_2   (int) 6, 6, 6, 6, 4, 4, 6, 6, 9, 9, 3, 3, NA, NA, NA, NA, NA, NA...\n",
      "$ attr5_2  (int) NA, NA, NA, NA, NA, NA, NA, NA, NA, NA, NA, NA, NA, NA, NA...\n",
      "$ sinc5_2  (int) NA, NA, NA, NA, NA, NA, NA, NA, NA, NA, NA, NA, NA, NA, NA...\n",
      "$ intel5_2 (int) NA, NA, NA, NA, NA, NA, NA, NA, NA, NA, NA, NA, NA, NA, NA...\n",
      "$ fun5_2   (int) NA, NA, NA, NA, NA, NA, NA, NA, NA, NA, NA, NA, NA, NA, NA...\n",
      "$ amb5_2   (int) NA, NA, NA, NA, NA, NA, NA, NA, NA, NA, NA, NA, NA, NA, NA...\n",
      "$ you_call (int) 1, 1, 1, 1, 0, 0, 0, 0, 0, 0, NA, NA, NA, NA, NA, NA, NA, ...\n",
      "$ them_cal (int) 1, 1, 1, 1, 0, 0, 0, 0, 0, 0, NA, NA, NA, NA, NA, NA, NA, ...\n",
      "$ date_3   (int) 0, 0, 0, 0, 0, 0, 0, 0, 0, 0, NA, NA, NA, NA, NA, NA, NA, ...\n",
      "$ numdat_3 (int) NA, NA, NA, NA, NA, NA, NA, NA, NA, NA, NA, NA, NA, NA, NA...\n",
      "$ num_in_3 (int) NA, NA, NA, NA, NA, NA, NA, NA, NA, NA, NA, NA, NA, NA, NA...\n",
      "$ attr1_3  (dbl) 15, 15, 15, 15, 30, 30, 20, 20, 30, 30, NA, NA, NA, NA, NA...\n",
      "$ sinc1_3  (dbl) 20, 20, 20, 20, 5, 5, 20, 20, 10, 10, NA, NA, NA, NA, NA, ...\n",
      "$ intel1_3 (dbl) 20, 20, 20, 20, 40, 40, 20, 20, 20, 20, NA, NA, NA, NA, NA...\n",
      "$ fun1_3   (dbl) 15, 15, 15, 15, 15, 15, 20, 20, 20, 20, NA, NA, NA, NA, NA...\n",
      "$ amb1_3   (dbl) 15, 15, 15, 15, 0, 0, 0, 0, 10, 10, NA, NA, NA, NA, NA, NA...\n",
      "$ shar1_3  (dbl) 15, 15, 15, 15, 10, 10, 20, 20, 10, 10, NA, NA, NA, NA, NA...\n",
      "$ attr7_3  (int) NA, NA, NA, NA, NA, NA, NA, NA, NA, NA, NA, NA, NA, NA, NA...\n",
      "$ sinc7_3  (int) NA, NA, NA, NA, NA, NA, NA, NA, NA, NA, NA, NA, NA, NA, NA...\n",
      "$ intel7_3 (int) NA, NA, NA, NA, NA, NA, NA, NA, NA, NA, NA, NA, NA, NA, NA...\n",
      "$ fun7_3   (int) NA, NA, NA, NA, NA, NA, NA, NA, NA, NA, NA, NA, NA, NA, NA...\n",
      "$ amb7_3   (int) NA, NA, NA, NA, NA, NA, NA, NA, NA, NA, NA, NA, NA, NA, NA...\n",
      "$ shar7_3  (int) NA, NA, NA, NA, NA, NA, NA, NA, NA, NA, NA, NA, NA, NA, NA...\n",
      "$ attr4_3  (int) NA, NA, NA, NA, NA, NA, NA, NA, NA, NA, NA, NA, NA, NA, NA...\n",
      "$ sinc4_3  (int) NA, NA, NA, NA, NA, NA, NA, NA, NA, NA, NA, NA, NA, NA, NA...\n",
      "$ intel4_3 (int) NA, NA, NA, NA, NA, NA, NA, NA, NA, NA, NA, NA, NA, NA, NA...\n",
      "$ fun4_3   (int) NA, NA, NA, NA, NA, NA, NA, NA, NA, NA, NA, NA, NA, NA, NA...\n",
      "$ amb4_3   (int) NA, NA, NA, NA, NA, NA, NA, NA, NA, NA, NA, NA, NA, NA, NA...\n",
      "$ shar4_3  (int) NA, NA, NA, NA, NA, NA, NA, NA, NA, NA, NA, NA, NA, NA, NA...\n",
      "$ attr2_3  (int) NA, NA, NA, NA, NA, NA, NA, NA, NA, NA, NA, NA, NA, NA, NA...\n",
      "$ sinc2_3  (int) NA, NA, NA, NA, NA, NA, NA, NA, NA, NA, NA, NA, NA, NA, NA...\n",
      "$ intel2_3 (int) NA, NA, NA, NA, NA, NA, NA, NA, NA, NA, NA, NA, NA, NA, NA...\n",
      "$ fun2_3   (int) NA, NA, NA, NA, NA, NA, NA, NA, NA, NA, NA, NA, NA, NA, NA...\n",
      "$ amb2_3   (int) NA, NA, NA, NA, NA, NA, NA, NA, NA, NA, NA, NA, NA, NA, NA...\n",
      "$ shar2_3  (int) NA, NA, NA, NA, NA, NA, NA, NA, NA, NA, NA, NA, NA, NA, NA...\n",
      "$ attr3_3  (int) 5, 5, 5, 5, 7, 7, 6, 6, 4, 4, NA, NA, NA, NA, NA, NA, NA, ...\n",
      "$ sinc3_3  (int) 7, 7, 7, 7, 6, 6, 5, 5, 5, 5, NA, NA, NA, NA, NA, NA, NA, ...\n",
      "$ intel3_3 (int) 7, 7, 7, 7, 9, 9, 6, 6, 10, 10, NA, NA, NA, NA, NA, NA, NA...\n",
      "$ fun3_3   (int) 7, 7, 7, 7, 9, 9, 8, 8, 6, 6, NA, NA, NA, NA, NA, NA, NA, ...\n",
      "$ amb3_3   (int) 7, 7, 7, 7, 4, 4, 5, 5, 10, 10, NA, NA, NA, NA, NA, NA, NA...\n",
      "$ attr5_3  (int) NA, NA, NA, NA, NA, NA, NA, NA, NA, NA, NA, NA, NA, NA, NA...\n",
      "$ sinc5_3  (int) NA, NA, NA, NA, NA, NA, NA, NA, NA, NA, NA, NA, NA, NA, NA...\n",
      "$ intel5_3 (int) NA, NA, NA, NA, NA, NA, NA, NA, NA, NA, NA, NA, NA, NA, NA...\n",
      "$ fun5_3   (int) NA, NA, NA, NA, NA, NA, NA, NA, NA, NA, NA, NA, NA, NA, NA...\n",
      "$ amb5_3   (int) NA, NA, NA, NA, NA, NA, NA, NA, NA, NA, NA, NA, NA, NA, NA...\n"
     ]
    }
   ],
   "source": [
    "glimpse(a)"
   ]
  },
  {
   "cell_type": "markdown",
   "metadata": {},
   "source": [
    "#整理Female Train Set  \n",
    "\n",
    "a_female match=0;b_female match=0  \n",
    "b_female_race1=race1|age(20,30)  \n",
    "b_female_race2=race2|age(20,30)|field_cd == 11 & 15  \n",
    "b_female_race3=race3|age(20,30)|field_cd == 11 & 15  \n",
    "b_female_race4=race3|age(20,30)  \n",
    "b_female_race6=race3|age(20,30)  \n"
   ]
  },
  {
   "cell_type": "code",
   "execution_count": 4,
   "metadata": {
    "collapsed": true
   },
   "outputs": [],
   "source": [
    "b<-read.csv(\"Train_Match_0.csv\")"
   ]
  },
  {
   "cell_type": "code",
   "execution_count": 5,
   "metadata": {
    "collapsed": false
   },
   "outputs": [],
   "source": [
    "b_female <-b %>%\n",
    "filter(gender == 0) "
   ]
  },
  {
   "cell_type": "code",
   "execution_count": 6,
   "metadata": {
    "collapsed": false
   },
   "outputs": [
    {
     "ename": "ERROR",
     "evalue": "Error in eval(expr, envir, enclos): object 'a_female' not found\n",
     "output_type": "error",
     "traceback": [
      "Error in eval(expr, envir, enclos): object 'a_female' not found\n"
     ]
    }
   ],
   "source": [
    "a_female %>%\n",
    "glimpse()"
   ]
  },
  {
   "cell_type": "code",
   "execution_count": 7,
   "metadata": {
    "collapsed": false
   },
   "outputs": [
    {
     "ename": "ERROR",
     "evalue": "Error in table(a_female$race): object 'a_female' not found\n",
     "output_type": "error",
     "traceback": [
      "Error in table(a_female$race): object 'a_female' not found\n"
     ]
    }
   ],
   "source": [
    "table(a_female$race)\n",
    "#Race of match_1,female"
   ]
  },
  {
   "cell_type": "code",
   "execution_count": 8,
   "metadata": {
    "collapsed": false
   },
   "outputs": [
    {
     "data": {
      "text/plain": [
       "\n",
       "   1    2    3    4    6 \n",
       " 189 1697  246  767  149 "
      ]
     },
     "execution_count": 8,
     "metadata": {},
     "output_type": "execute_result"
    }
   ],
   "source": [
    "\n",
    "table(b_female$race)\n",
    "#Race of match_0,female"
   ]
  },
  {
   "cell_type": "markdown",
   "metadata": {},
   "source": [
    "match_0,female 調整成  "
   ]
  },
  {
   "cell_type": "markdown",
   "metadata": {},
   "source": [
    "\n",
    "|   1  |  2  |  3  |  4  |  6 |\n",
    "|------|------|------|------|------|\n",
    "| 189 | 1697 | 246 | 767 | 149 |"
   ]
  },
  {
   "cell_type": "code",
   "execution_count": 9,
   "metadata": {
    "collapsed": false
   },
   "outputs": [],
   "source": [
    "b_female_race1<-b_female %>%\n",
    "filter(race == 1) %>%\n",
    "filter(age <31 | age >20)\n",
    "#b_female_race1=race1&age(20,30)"
   ]
  },
  {
   "cell_type": "code",
   "execution_count": 10,
   "metadata": {
    "collapsed": false
   },
   "outputs": [
    {
     "name": "stderr",
     "output_type": "stream",
     "text": [
      "Warning message:\n",
      "In c(1L, 1L, 1L, 1L, 1L, 1L, 1L, 1L, 2L, 2L, 2L, 2L, 2L, 2L, 2L, : longer object length is not a multiple of shorter object length"
     ]
    }
   ],
   "source": [
    "b_female_race2<-b_female %>%\n",
    "filter(race == 2) %>%\n",
    "filter(age <31 | age >20) %>%\n",
    "filter(field_cd == c(11,  15))\n",
    "\n",
    "#b_female_race2=race2&age(20,30)&field_cd == 11 & 15"
   ]
  },
  {
   "cell_type": "code",
   "execution_count": 11,
   "metadata": {
    "collapsed": false
   },
   "outputs": [],
   "source": [
    "b_female_race3<-b_female %>%\n",
    "filter(race == 3) %>%\n",
    "filter(age <31 | age >20) %>%\n",
    "filter(field_cd == c(11 ,15))\n",
    "#b_female_race3=race3&age(20,30)&field_cd == 11 & 15"
   ]
  },
  {
   "cell_type": "code",
   "execution_count": 12,
   "metadata": {
    "collapsed": false
   },
   "outputs": [],
   "source": [
    "b_female_race4<-b_female %>%\n",
    "filter(race == 4) %>%\n",
    "filter(age <31 | age >20) \n",
    "#b_female_race4=race3&age(20,30)"
   ]
  },
  {
   "cell_type": "code",
   "execution_count": 13,
   "metadata": {
    "collapsed": false
   },
   "outputs": [],
   "source": [
    "b_female_race6<-b_female %>%\n",
    "filter(race == 6) %>%\n",
    "filter(age <31 | age >20) \n",
    "#b_female_race6=race3&age(20,30)"
   ]
  },
  {
   "cell_type": "code",
   "execution_count": 14,
   "metadata": {
    "collapsed": false
   },
   "outputs": [
    {
     "ename": "ERROR",
     "evalue": "Error in bind_rows(a_female, b_female_race1, b_female_race2, b_female_race3, : object 'a_female' not found\n",
     "output_type": "error",
     "traceback": [
      "Error in bind_rows(a_female, b_female_race1, b_female_race2, b_female_race3, : object 'a_female' not found\n"
     ]
    }
   ],
   "source": [
    "bind_rows(a_female,b_female_race1,b_female_race2,b_female_race3,b_female_race4,b_female_race6) %>%\n",
    "write.csv(file=\"female_train_mix1.csv\")\n"
   ]
  },
  {
   "cell_type": "markdown",
   "metadata": {},
   "source": [
    "#整理Male Train Set"
   ]
  },
  {
   "cell_type": "code",
   "execution_count": 15,
   "metadata": {
    "collapsed": true
   },
   "outputs": [],
   "source": [
    "a_male <-a %>%\n",
    "filter(gender == 1) "
   ]
  },
  {
   "cell_type": "code",
   "execution_count": 16,
   "metadata": {
    "collapsed": true
   },
   "outputs": [],
   "source": [
    "b_male <-b %>%\n",
    "filter(gender == 1) "
   ]
  },
  {
   "cell_type": "code",
   "execution_count": 17,
   "metadata": {
    "collapsed": false
   },
   "outputs": [
    {
     "name": "stdout",
     "output_type": "stream",
     "text": [
      "Observations: 3,092\n",
      "Variables: 197\n",
      "$ X        (int) 70, 71, 72, 73, 74, 75, 76, 77, 78, 79, 80, 81, 82, 83, 84...\n",
      "$ recordid (int) 101, 102, 103, 104, 105, 106, 107, 108, 109, 110, 111, 112...\n",
      "$ iid      (int) 11, 11, 11, 11, 11, 11, 11, 11, 11, 11, 12, 12, 12, 12, 12...\n",
      "$ id       (int) 1, 1, 1, 1, 1, 1, 1, 1, 1, 1, 2, 2, 2, 2, 2, 2, 2, 2, 3, 3...\n",
      "$ gender   (int) 1, 1, 1, 1, 1, 1, 1, 1, 1, 1, 1, 1, 1, 1, 1, 1, 1, 1, 1, 1...\n",
      "$ idg      (int) 2, 2, 2, 2, 2, 2, 2, 2, 2, 2, 4, 4, 4, 4, 4, 4, 4, 4, 6, 6...\n",
      "$ condtn   (int) 1, 1, 1, 1, 1, 1, 1, 1, 1, 1, 1, 1, 1, 1, 1, 1, 1, 1, 1, 1...\n",
      "$ wave     (int) 1, 1, 1, 1, 1, 1, 1, 1, 1, 1, 1, 1, 1, 1, 1, 1, 1, 1, 1, 1...\n",
      "$ round    (int) 10, 10, 10, 10, 10, 10, 10, 10, 10, 10, 10, 10, 10, 10, 10...\n",
      "$ position (int) 7, 3, 9, 6, 4, 8, 5, 10, 1, 2, 7, 3, 9, 6, 4, 8, 5, 2, 3, ...\n",
      "$ positin1 (int) NA, NA, NA, NA, NA, NA, NA, NA, NA, NA, NA, NA, NA, NA, NA...\n",
      "$ order    (int) 4, 10, 6, 3, 1, 5, 2, 7, 8, 9, 3, 9, 5, 2, 10, 4, 1, 8, 6,...\n",
      "$ partner  (int) 1, 2, 3, 4, 5, 6, 7, 8, 9, 10, 1, 2, 3, 4, 5, 6, 7, 10, 2,...\n",
      "$ pid      (int) 1, 2, 3, 4, 5, 6, 7, 8, 9, 10, 1, 2, 3, 4, 5, 6, 7, 10, 2,...\n",
      "$ match    (int) 0, 0, 0, 0, 0, 0, 0, 0, 0, 0, 0, 0, 0, 0, 0, 0, 0, 0, 0, 0...\n",
      "$ int_corr (dbl) 0.14, 0.29, -0.24, -0.18, -0.43, 0.33, 0.19, -0.03, 0.19, ...\n",
      "$ samerace (int) 0, 1, 1, 1, 1, 0, 0, 1, 0, 1, 0, 1, 1, 1, 1, 0, 0, 1, 0, 0...\n",
      "$ age_o    (int) 21, 24, 25, 23, 21, 23, 22, 25, 26, 26, 21, 24, 25, 23, 21...\n",
      "$ race_o   (int) 4, 2, 2, 2, 2, 4, 4, 2, 6, 2, 4, 2, 2, 2, 2, 4, 4, 2, 2, 2...\n",
      "$ pf_o_att (dbl) 15.00, 45.00, 35.00, 20.00, 20.00, 10.00, 15.00, 9.09, 20....\n",
      "$ pf_o_sin (dbl) 20.00, 5.00, 10.00, 20.00, 5.00, 25.00, 15.00, 18.18, 10.0...\n",
      "$ pf_o_int (dbl) 20.00, 25.00, 35.00, 20.00, 25.00, 20.00, 25.00, 27.27, 20...\n",
      "$ pf_o_fun (dbl) 15.00, 20.00, 10.00, 20.00, 25.00, 25.00, 20.00, 18.18, 30...\n",
      "$ pf_o_amb (dbl) 15.00, 0.00, 10.00, 10.00, 10.00, 5.00, 15.00, 18.18, 10.0...\n",
      "$ pf_o_sha (dbl) 15.00, 5.00, 0.00, 10.00, 15.00, 15.00, 10.00, 9.09, 10.00...\n",
      "$ dec_o    (int) 1, 0, 0, 0, 0, 1, 0, 1, 1, 0, 1, 0, 0, 0, 0, 1, 0, 0, 0, 0...\n",
      "$ attr_o   (dbl) 6, 5, 7, 4, 5, 6, 4, 5, 8, 6, 7, 8, 9, 8, 8, 6, 6, 1, 5, 7...\n",
      "$ sinc_o   (dbl) 9, 7, 9, 10, 8, 9, 8, 8, 10, 10, 8, 5, 7, 7, 6, 9, 6, 1, 8...\n",
      "$ intel_o  (dbl) 7, 8, 10, 8, 8, 7, 8, 7, 9, 10, 7, 6, 9, 8, 6, 9, 8, 1, 9,...\n",
      "$ fun_o    (dbl) 7, 4, 7, 5, 2, 6, 5, 4, 8, 6, 8, 6, 8, 10, 5, 6, 4, 1, 6, ...\n",
      "$ amb_o    (dbl) 6, 6, 8, 8, 2, 7, 7, 7, 7, 6, 5, 9, 9, 7, 5, 8, 9, 1, 3, 9...\n",
      "$ shar_o   (dbl) 5, 3, 9, 7, 2, 6, 4, 5, 6, NA, 6, 6, 7, 8, 5, 2, 4, NA, 4,...\n",
      "$ like_o   (dbl) 7, 6, 8, 6, 7, 6, 7, 4, 5, 6, 7, 7, 8, 8, 6, 7, 7, 1, 6, 8...\n",
      "$ prob_o   (dbl) 6, 4, 7, 7, 5, 6, 4, 5, 5, 3, 5, 3, 7, 1, 4, 6, 3, 1, 7, 7...\n",
      "$ met_o    (int) 2, 2, 1, 2, 2, 2, 2, 2, 2, 2, 1, 2, 2, 1, 1, 2, 1, 1, 2, 2...\n",
      "$ age      (int) 27, 27, 27, 27, 27, 27, 27, 27, 27, 27, 22, 22, 22, 22, 22...\n",
      "$ field    (fctr) Finance, Finance, Finance, Finance, Finance, Finance, Fin...\n",
      "$ field_cd (int) 8, 8, 8, 8, 8, 8, 8, 8, 8, 8, 1, 1, 1, 1, 1, 1, 1, 1, 1, 1...\n",
      "$ undergra (fctr) , , , , , , , , , , , , , , , , , , , , , , , , , \n",
      "$ mn_sat   (fctr) , , , , , , , , , , , , , , , , , , , , , , , , , \n",
      "$ tuition  (fctr) , , , , , , , , , , , , , , , , , , , , , , , , , \n",
      "$ race     (int) 2, 2, 2, 2, 2, 2, 2, 2, 2, 2, 2, 2, 2, 2, 2, 2, 2, 2, 4, 4...\n",
      "$ imprace  (int) 7, 7, 7, 7, 7, 7, 7, 7, 7, 7, 1, 1, 1, 1, 1, 1, 1, 1, 3, 3...\n",
      "$ imprelig (int) 3, 3, 3, 3, 3, 3, 3, 3, 3, 3, 1, 1, 1, 1, 1, 1, 1, 1, 5, 5...\n",
      "$ from     (fctr) Argentina, Argentina, Argentina, Argentina, Argentina, Ar...\n",
      "$ zipcode  (fctr) 0, 0, 0, 0, 0, 0, 0, 0, 0, 0, 14,850, 14,850, 14,850, 14,...\n",
      "$ income   (fctr) , , , , , , , , , , 29,237.00, 29,237.00, 29,237.00, 29,2...\n",
      "$ goal     (int) 1, 1, 1, 1, 1, 1, 1, 1, 1, 1, 1, 1, 1, 1, 1, 1, 1, 1, 2, 2...\n",
      "$ date     (int) 5, 5, 5, 5, 5, 5, 5, 5, 5, 5, 1, 1, 1, 1, 1, 1, 1, 1, 7, 7...\n",
      "$ go_out   (int) 4, 4, 4, 4, 4, 4, 4, 4, 4, 4, 1, 1, 1, 1, 1, 1, 1, 1, 1, 1...\n",
      "$ career   (fctr) Academia, Research, Banking, Life, Academia, Research, Ba...\n",
      "$ career_c (int) 2, 2, 2, 2, 2, 2, 2, 2, 2, 2, 1, 1, 1, 1, 1, 1, 1, 1, 1, 1...\n",
      "$ sports   (int) 8, 8, 8, 8, 8, 8, 8, 8, 8, 8, 9, 9, 9, 9, 9, 9, 9, 9, 7, 7...\n",
      "$ tvsports (int) 7, 7, 7, 7, 7, 7, 7, 7, 7, 7, 7, 7, 7, 7, 7, 7, 7, 7, 8, 8...\n",
      "$ exercise (int) 2, 2, 2, 2, 2, 2, 2, 2, 2, 2, 9, 9, 9, 9, 9, 9, 9, 9, 2, 2...\n",
      "$ dining   (int) 6, 6, 6, 6, 6, 6, 6, 6, 6, 6, 8, 8, 8, 8, 8, 8, 8, 8, 9, 9...\n",
      "$ museums  (int) 7, 7, 7, 7, 7, 7, 7, 7, 7, 7, 7, 7, 7, 7, 7, 7, 7, 7, 5, 5...\n",
      "$ art      (int) 5, 5, 5, 5, 5, 5, 5, 5, 5, 5, 6, 6, 6, 6, 6, 6, 6, 6, 6, 6...\n",
      "$ hiking   (int) 5, 5, 5, 5, 5, 5, 5, 5, 5, 5, 3, 3, 3, 3, 3, 3, 3, 3, 4, 4...\n",
      "$ gaming   (int) 5, 5, 5, 5, 5, 5, 5, 5, 5, 5, 3, 3, 3, 3, 3, 3, 3, 3, 7, 7...\n",
      "$ clubbing (int) 4, 4, 4, 4, 4, 4, 4, 4, 4, 4, 5, 5, 5, 5, 5, 5, 5, 5, 7, 7...\n",
      "$ reading  (int) 9, 9, 9, 9, 9, 9, 9, 9, 9, 9, 6, 6, 6, 6, 6, 6, 6, 6, 6, 6...\n",
      "$ tv       (int) 2, 2, 2, 2, 2, 2, 2, 2, 2, 2, 6, 6, 6, 6, 6, 6, 6, 6, 8, 8...\n",
      "$ theater  (int) 4, 4, 4, 4, 4, 4, 4, 4, 4, 4, 4, 4, 4, 4, 4, 4, 4, 4, 10, ...\n",
      "$ movies   (int) 8, 8, 8, 8, 8, 8, 8, 8, 8, 8, 7, 7, 7, 7, 7, 7, 7, 7, 8, 8...\n",
      "$ concerts (int) 7, 7, 7, 7, 7, 7, 7, 7, 7, 7, 7, 7, 7, 7, 7, 7, 7, 7, 9, 9...\n",
      "$ music    (int) 8, 8, 8, 8, 8, 8, 8, 8, 8, 8, 9, 9, 9, 9, 9, 9, 9, 9, 9, 9...\n",
      "$ shopping (int) 5, 5, 5, 5, 5, 5, 5, 5, 5, 5, 5, 5, 5, 5, 5, 5, 5, 5, 8, 8...\n",
      "$ yoga     (int) 1, 1, 1, 1, 1, 1, 1, 1, 1, 1, 5, 5, 5, 5, 5, 5, 5, 5, 1, 1...\n",
      "$ exphappy (int) 7, 7, 7, 7, 7, 7, 7, 7, 7, 7, 7, 7, 7, 7, 7, 7, 7, 7, 3, 3...\n",
      "$ expnum   (int) 3, 3, 3, 3, 3, 3, 3, 3, 3, 3, 20, 20, 20, 20, 20, 20, 20, ...\n",
      "$ attr1_1  (dbl) 35, 35, 35, 35, 35, 35, 35, 35, 35, 35, 60, 60, 60, 60, 60...\n",
      "$ sinc1_1  (dbl) 20, 20, 20, 20, 20, 20, 20, 20, 20, 20, 0, 0, 0, 0, 0, 0, ...\n",
      "$ intel1_1 (dbl) 20, 20, 20, 20, 20, 20, 20, 20, 20, 20, 0, 0, 0, 0, 0, 0, ...\n",
      "$ fun1_1   (dbl) 20, 20, 20, 20, 20, 20, 20, 20, 20, 20, 40, 40, 40, 40, 40...\n",
      "$ amb1_1   (dbl) 0, 0, 0, 0, 0, 0, 0, 0, 0, 0, 0, 0, 0, 0, 0, 0, 0, 0, 14, ...\n",
      "$ shar1_1  (dbl) 5, 5, 5, 5, 5, 5, 5, 5, 5, 5, 0, 0, 0, 0, 0, 0, 0, 0, 12, ...\n",
      "$ attr4_1  (int) NA, NA, NA, NA, NA, NA, NA, NA, NA, NA, NA, NA, NA, NA, NA...\n",
      "$ sinc4_1  (int) NA, NA, NA, NA, NA, NA, NA, NA, NA, NA, NA, NA, NA, NA, NA...\n",
      "$ intel4_1 (int) NA, NA, NA, NA, NA, NA, NA, NA, NA, NA, NA, NA, NA, NA, NA...\n",
      "$ fun4_1   (int) NA, NA, NA, NA, NA, NA, NA, NA, NA, NA, NA, NA, NA, NA, NA...\n",
      "$ amb4_1   (int) NA, NA, NA, NA, NA, NA, NA, NA, NA, NA, NA, NA, NA, NA, NA...\n",
      "$ shar4_1  (int) NA, NA, NA, NA, NA, NA, NA, NA, NA, NA, NA, NA, NA, NA, NA...\n",
      "$ attr2_1  (dbl) 25, 25, 25, 25, 25, 25, 25, 25, 25, 25, 25, 25, 25, 25, 25...\n",
      "$ sinc2_1  (dbl) 5, 5, 5, 5, 5, 5, 5, 5, 5, 5, 15, 15, 15, 15, 15, 15, 15, ...\n",
      "$ intel2_1 (dbl) 20, 20, 20, 20, 20, 20, 20, 20, 20, 20, 25, 25, 25, 25, 25...\n",
      "$ fun2_1   (dbl) 20, 20, 20, 20, 20, 20, 20, 20, 20, 20, 20, 20, 20, 20, 20...\n",
      "$ amb2_1   (dbl) 25, 25, 25, 25, 25, 25, 25, 25, 25, 25, 15, 15, 15, 15, 15...\n",
      "$ shar2_1  (dbl) 5, 5, 5, 5, 5, 5, 5, 5, 5, 5, 0, 0, 0, 0, 0, 0, 0, 0, 14, ...\n",
      "$ attr3_1  (int) 8, 8, 8, 8, 8, 8, 8, 8, 8, 8, 9, 9, 9, 9, 9, 9, 9, 9, 4, 4...\n",
      "$ sinc3_1  (int) 9, 9, 9, 9, 9, 9, 9, 9, 9, 9, 9, 9, 9, 9, 9, 9, 9, 9, 7, 7...\n",
      "$ fun3_1   (int) 7, 7, 7, 7, 7, 7, 7, 7, 7, 7, 9, 9, 9, 9, 9, 9, 9, 9, 8, 8...\n",
      "$ intel3_1 (int) 8, 8, 8, 8, 8, 8, 8, 8, 8, 8, 10, 10, 10, 10, 10, 10, 10, ...\n",
      "$ amb3_1   (int) 5, 5, 5, 5, 5, 5, 5, 5, 5, 5, 9, 9, 9, 9, 9, 9, 9, 9, 3, 3...\n",
      "$ attr5_1  (int) NA, NA, NA, NA, NA, NA, NA, NA, NA, NA, NA, NA, NA, NA, NA...\n",
      "$ sinc5_1  (int) NA, NA, NA, NA, NA, NA, NA, NA, NA, NA, NA, NA, NA, NA, NA...\n",
      "$ intel5_1 (int) NA, NA, NA, NA, NA, NA, NA, NA, NA, NA, NA, NA, NA, NA, NA...\n",
      "$ fun5_1   (int) NA, NA, NA, NA, NA, NA, NA, NA, NA, NA, NA, NA, NA, NA, NA...\n",
      "$ amb5_1   (int) NA, NA, NA, NA, NA, NA, NA, NA, NA, NA, NA, NA, NA, NA, NA...\n",
      "$ dec      (int) 0, 0, 0, 0, 0, 0, 0, 0, 0, 0, 0, 0, 0, 0, 0, 0, 1, 0, 1, 1...\n",
      "$ attr     (dbl) 6, 8, 7, 6, 6, 7, 7, 8, 6, 7, 7, 7, 6, 6, 6, 6, 7, 1, 10, ...\n",
      "$ sinc     (dbl) 8, 7, 8, 7, 8, 9, 8, 7, 8, 8, 8, 6, 7, 5, 7, 8, 9, 1, 10, ...\n",
      "$ intel    (dbl) 8, 6, 6, 8, 8, 8, 8, 6, 7, 7, 10, 10, 10, 10, 10, 10, 10, ...\n",
      "$ fun      (dbl) 8, 9, 5, 7, 8, 9, 8, 6, 8, 8, 7, 6, 6, 6, 7, 6, 6, 1, 10, ...\n",
      "$ amb      (dbl) 8, 7, 8, 7, 7, 8, 7, 6, 7, 6, 7, 6, 6, 6, 6, 7, 6, 1, 10, ...\n",
      "$ shar     (dbl) 6, 4, 4, 5, 6, 4, 7, 5, 5, 5, 5, 5, 5, 5, 5, 6, 5, 1, 10, ...\n",
      "$ like     (dbl) 7, 7, 5, 6, 6, 7, 7, 7, 6, 6, 8, 8, 7, 6, 7, 7, 8, 1, 10, ...\n",
      "$ prob     (dbl) 4, 2, 2, 3, 5, 4, 4, 4, 4, 3, 4, 4, 3, 3, 4, 4, 4, 1, 10, ...\n",
      "$ met      (int) 2, 2, 1, 2, 2, 2, 2, 2, 2, 2, 2, 2, 2, 1, 1, 2, 1, 2, 2, 2...\n",
      "$ match_es (dbl) 0, 0, 0, 0, 0, 0, 0, 0, 0, 0, 3, 3, 3, 3, 3, 3, 3, 3, NA, ...\n",
      "$ attr1_s  (dbl) NA, NA, NA, NA, NA, NA, NA, NA, NA, NA, NA, NA, NA, NA, NA...\n",
      "$ sinc1_s  (dbl) NA, NA, NA, NA, NA, NA, NA, NA, NA, NA, NA, NA, NA, NA, NA...\n",
      "$ intel1_s (dbl) NA, NA, NA, NA, NA, NA, NA, NA, NA, NA, NA, NA, NA, NA, NA...\n",
      "$ fun1_s   (dbl) NA, NA, NA, NA, NA, NA, NA, NA, NA, NA, NA, NA, NA, NA, NA...\n",
      "$ amb1_s   (dbl) NA, NA, NA, NA, NA, NA, NA, NA, NA, NA, NA, NA, NA, NA, NA...\n",
      "$ shar1_s  (dbl) NA, NA, NA, NA, NA, NA, NA, NA, NA, NA, NA, NA, NA, NA, NA...\n",
      "$ attr3_s  (dbl) NA, NA, NA, NA, NA, NA, NA, NA, NA, NA, NA, NA, NA, NA, NA...\n",
      "$ sinc3_s  (dbl) NA, NA, NA, NA, NA, NA, NA, NA, NA, NA, NA, NA, NA, NA, NA...\n",
      "$ intel3_s (dbl) NA, NA, NA, NA, NA, NA, NA, NA, NA, NA, NA, NA, NA, NA, NA...\n",
      "$ fun3_s   (int) NA, NA, NA, NA, NA, NA, NA, NA, NA, NA, NA, NA, NA, NA, NA...\n",
      "$ amb3_s   (int) NA, NA, NA, NA, NA, NA, NA, NA, NA, NA, NA, NA, NA, NA, NA...\n",
      "$ satis_2  (int) 7, 7, 7, 7, 7, 7, 7, 7, 7, 7, NA, NA, NA, NA, NA, NA, NA, ...\n",
      "$ length   (int) 2, 2, 2, 2, 2, 2, 2, 2, 2, 2, NA, NA, NA, NA, NA, NA, NA, ...\n",
      "$ numdat_2 (int) NA, NA, NA, NA, NA, NA, NA, NA, NA, NA, NA, NA, NA, NA, NA...\n",
      "$ attr7_2  (int) NA, NA, NA, NA, NA, NA, NA, NA, NA, NA, NA, NA, NA, NA, NA...\n",
      "$ sinc7_2  (int) NA, NA, NA, NA, NA, NA, NA, NA, NA, NA, NA, NA, NA, NA, NA...\n",
      "$ intel7_2 (int) NA, NA, NA, NA, NA, NA, NA, NA, NA, NA, NA, NA, NA, NA, NA...\n",
      "$ fun7_2   (int) NA, NA, NA, NA, NA, NA, NA, NA, NA, NA, NA, NA, NA, NA, NA...\n",
      "$ amb7_2   (int) NA, NA, NA, NA, NA, NA, NA, NA, NA, NA, NA, NA, NA, NA, NA...\n",
      "$ shar7_2  (int) NA, NA, NA, NA, NA, NA, NA, NA, NA, NA, NA, NA, NA, NA, NA...\n",
      "$ attr1_2  (dbl) 19.51, 19.51, 19.51, 19.51, 19.51, 19.51, 19.51, 19.51, 19...\n",
      "$ sinc1_2  (dbl) 17.07, 17.07, 17.07, 17.07, 17.07, 17.07, 17.07, 17.07, 17...\n",
      "$ intel1_2 (dbl) 17.07, 17.07, 17.07, 17.07, 17.07, 17.07, 17.07, 17.07, 17...\n",
      "$ fun1_2   (dbl) 17.07, 17.07, 17.07, 17.07, 17.07, 17.07, 17.07, 17.07, 17...\n",
      "$ amb1_2   (dbl) 12.20, 12.20, 12.20, 12.20, 12.20, 12.20, 12.20, 12.20, 12...\n",
      "$ shar1_2  (dbl) 17.07, 17.07, 17.07, 17.07, 17.07, 17.07, 17.07, 17.07, 17...\n",
      "$ attr4_2  (int) NA, NA, NA, NA, NA, NA, NA, NA, NA, NA, NA, NA, NA, NA, NA...\n",
      "$ sinc4_2  (int) NA, NA, NA, NA, NA, NA, NA, NA, NA, NA, NA, NA, NA, NA, NA...\n",
      "$ intel4_2 (int) NA, NA, NA, NA, NA, NA, NA, NA, NA, NA, NA, NA, NA, NA, NA...\n",
      "$ fun4_2   (int) NA, NA, NA, NA, NA, NA, NA, NA, NA, NA, NA, NA, NA, NA, NA...\n",
      "$ amb4_2   (int) NA, NA, NA, NA, NA, NA, NA, NA, NA, NA, NA, NA, NA, NA, NA...\n",
      "$ shar4_2  (int) NA, NA, NA, NA, NA, NA, NA, NA, NA, NA, NA, NA, NA, NA, NA...\n",
      "$ attr2_2  (dbl) NA, NA, NA, NA, NA, NA, NA, NA, NA, NA, NA, NA, NA, NA, NA...\n",
      "$ sinc2_2  (dbl) NA, NA, NA, NA, NA, NA, NA, NA, NA, NA, NA, NA, NA, NA, NA...\n",
      "$ intel2_2 (dbl) NA, NA, NA, NA, NA, NA, NA, NA, NA, NA, NA, NA, NA, NA, NA...\n",
      "$ fun2_2   (dbl) NA, NA, NA, NA, NA, NA, NA, NA, NA, NA, NA, NA, NA, NA, NA...\n",
      "$ amb2_2   (dbl) NA, NA, NA, NA, NA, NA, NA, NA, NA, NA, NA, NA, NA, NA, NA...\n",
      "$ shar2_2  (dbl) NA, NA, NA, NA, NA, NA, NA, NA, NA, NA, NA, NA, NA, NA, NA...\n",
      "$ attr3_2  (int) 8, 8, 8, 8, 8, 8, 8, 8, 8, 8, NA, NA, NA, NA, NA, NA, NA, ...\n",
      "$ sinc3_2  (int) 8, 8, 8, 8, 8, 8, 8, 8, 8, 8, NA, NA, NA, NA, NA, NA, NA, ...\n",
      "$ intel3_2 (int) 8, 8, 8, 8, 8, 8, 8, 8, 8, 8, NA, NA, NA, NA, NA, NA, NA, ...\n",
      "$ fun3_2   (int) 6, 6, 6, 6, 6, 6, 6, 6, 6, 6, NA, NA, NA, NA, NA, NA, NA, ...\n",
      "$ amb3_2   (int) 5, 5, 5, 5, 5, 5, 5, 5, 5, 5, NA, NA, NA, NA, NA, NA, NA, ...\n",
      "$ attr5_2  (int) NA, NA, NA, NA, NA, NA, NA, NA, NA, NA, NA, NA, NA, NA, NA...\n",
      "$ sinc5_2  (int) NA, NA, NA, NA, NA, NA, NA, NA, NA, NA, NA, NA, NA, NA, NA...\n",
      "$ intel5_2 (int) NA, NA, NA, NA, NA, NA, NA, NA, NA, NA, NA, NA, NA, NA, NA...\n",
      "$ fun5_2   (int) NA, NA, NA, NA, NA, NA, NA, NA, NA, NA, NA, NA, NA, NA, NA...\n",
      "$ amb5_2   (int) NA, NA, NA, NA, NA, NA, NA, NA, NA, NA, NA, NA, NA, NA, NA...\n",
      "$ you_call (int) 0, 0, 0, 0, 0, 0, 0, 0, 0, 0, NA, NA, NA, NA, NA, NA, NA, ...\n",
      "$ them_cal (int) 0, 0, 0, 0, 0, 0, 0, 0, 0, 0, NA, NA, NA, NA, NA, NA, NA, ...\n",
      "$ date_3   (int) 0, 0, 0, 0, 0, 0, 0, 0, 0, 0, NA, NA, NA, NA, NA, NA, NA, ...\n",
      "$ numdat_3 (int) NA, NA, NA, NA, NA, NA, NA, NA, NA, NA, NA, NA, NA, NA, NA...\n",
      "$ num_in_3 (int) NA, NA, NA, NA, NA, NA, NA, NA, NA, NA, NA, NA, NA, NA, NA...\n",
      "$ attr1_3  (dbl) 35, 35, 35, 35, 35, 35, 35, 35, 35, 35, NA, NA, NA, NA, NA...\n",
      "$ sinc1_3  (dbl) 25, 25, 25, 25, 25, 25, 25, 25, 25, 25, NA, NA, NA, NA, NA...\n",
      "$ intel1_3 (dbl) 15, 15, 15, 15, 15, 15, 15, 15, 15, 15, NA, NA, NA, NA, NA...\n",
      "$ fun1_3   (dbl) 15, 15, 15, 15, 15, 15, 15, 15, 15, 15, NA, NA, NA, NA, NA...\n",
      "$ amb1_3   (dbl) 0, 0, 0, 0, 0, 0, 0, 0, 0, 0, NA, NA, NA, NA, NA, NA, NA, ...\n",
      "$ shar1_3  (dbl) 10, 10, 10, 10, 10, 10, 10, 10, 10, 10, NA, NA, NA, NA, NA...\n",
      "$ attr7_3  (int) NA, NA, NA, NA, NA, NA, NA, NA, NA, NA, NA, NA, NA, NA, NA...\n",
      "$ sinc7_3  (int) NA, NA, NA, NA, NA, NA, NA, NA, NA, NA, NA, NA, NA, NA, NA...\n",
      "$ intel7_3 (int) NA, NA, NA, NA, NA, NA, NA, NA, NA, NA, NA, NA, NA, NA, NA...\n",
      "$ fun7_3   (int) NA, NA, NA, NA, NA, NA, NA, NA, NA, NA, NA, NA, NA, NA, NA...\n",
      "$ amb7_3   (int) NA, NA, NA, NA, NA, NA, NA, NA, NA, NA, NA, NA, NA, NA, NA...\n",
      "$ shar7_3  (int) NA, NA, NA, NA, NA, NA, NA, NA, NA, NA, NA, NA, NA, NA, NA...\n",
      "$ attr4_3  (int) NA, NA, NA, NA, NA, NA, NA, NA, NA, NA, NA, NA, NA, NA, NA...\n",
      "$ sinc4_3  (int) NA, NA, NA, NA, NA, NA, NA, NA, NA, NA, NA, NA, NA, NA, NA...\n",
      "$ intel4_3 (int) NA, NA, NA, NA, NA, NA, NA, NA, NA, NA, NA, NA, NA, NA, NA...\n",
      "$ fun4_3   (int) NA, NA, NA, NA, NA, NA, NA, NA, NA, NA, NA, NA, NA, NA, NA...\n",
      "$ amb4_3   (int) NA, NA, NA, NA, NA, NA, NA, NA, NA, NA, NA, NA, NA, NA, NA...\n",
      "$ shar4_3  (int) NA, NA, NA, NA, NA, NA, NA, NA, NA, NA, NA, NA, NA, NA, NA...\n",
      "$ attr2_3  (int) NA, NA, NA, NA, NA, NA, NA, NA, NA, NA, NA, NA, NA, NA, NA...\n",
      "$ sinc2_3  (int) NA, NA, NA, NA, NA, NA, NA, NA, NA, NA, NA, NA, NA, NA, NA...\n",
      "$ intel2_3 (int) NA, NA, NA, NA, NA, NA, NA, NA, NA, NA, NA, NA, NA, NA, NA...\n",
      "$ fun2_3   (int) NA, NA, NA, NA, NA, NA, NA, NA, NA, NA, NA, NA, NA, NA, NA...\n",
      "$ amb2_3   (int) NA, NA, NA, NA, NA, NA, NA, NA, NA, NA, NA, NA, NA, NA, NA...\n",
      "$ shar2_3  (int) NA, NA, NA, NA, NA, NA, NA, NA, NA, NA, NA, NA, NA, NA, NA...\n",
      "$ attr3_3  (int) 7, 7, 7, 7, 7, 7, 7, 7, 7, 7, NA, NA, NA, NA, NA, NA, NA, ...\n",
      "$ sinc3_3  (int) 8, 8, 8, 8, 8, 8, 8, 8, 8, 8, NA, NA, NA, NA, NA, NA, NA, ...\n",
      "$ intel3_3 (int) 7, 7, 7, 7, 7, 7, 7, 7, 7, 7, NA, NA, NA, NA, NA, NA, NA, ...\n",
      "$ fun3_3   (int) 7, 7, 7, 7, 7, 7, 7, 7, 7, 7, NA, NA, NA, NA, NA, NA, NA, ...\n",
      "$ amb3_3   (int) 5, 5, 5, 5, 5, 5, 5, 5, 5, 5, NA, NA, NA, NA, NA, NA, NA, ...\n",
      "$ attr5_3  (int) NA, NA, NA, NA, NA, NA, NA, NA, NA, NA, NA, NA, NA, NA, NA...\n",
      "$ sinc5_3  (int) NA, NA, NA, NA, NA, NA, NA, NA, NA, NA, NA, NA, NA, NA, NA...\n",
      "$ intel5_3 (int) NA, NA, NA, NA, NA, NA, NA, NA, NA, NA, NA, NA, NA, NA, NA...\n",
      "$ fun5_3   (int) NA, NA, NA, NA, NA, NA, NA, NA, NA, NA, NA, NA, NA, NA, NA...\n",
      "$ amb5_3   (int) NA, NA, NA, NA, NA, NA, NA, NA, NA, NA, NA, NA, NA, NA, NA...\n"
     ]
    }
   ],
   "source": [
    "b_male%>%\n",
    "glimpse()"
   ]
  },
  {
   "cell_type": "code",
   "execution_count": 18,
   "metadata": {
    "collapsed": false
   },
   "outputs": [
    {
     "data": {
      "text/plain": [
       "\n",
       "  1   2   3   4   6 \n",
       " 31 398  45  94  45 "
      ]
     },
     "execution_count": 18,
     "metadata": {},
     "output_type": "execute_result"
    }
   ],
   "source": [
    "table(a_male$race)"
   ]
  },
  {
   "cell_type": "code",
   "execution_count": 19,
   "metadata": {
    "collapsed": false
   },
   "outputs": [
    {
     "data": {
      "text/plain": [
       "\n",
       "   1    2    3    4    6 \n",
       " 126 1836  216  689  210 "
      ]
     },
     "execution_count": 19,
     "metadata": {},
     "output_type": "execute_result"
    }
   ],
   "source": [
    "table(b_male$race)"
   ]
  },
  {
   "cell_type": "code",
   "execution_count": 23,
   "metadata": {
    "collapsed": false
   },
   "outputs": [],
   "source": [
    "b_male_race1<-b_male %>%\n",
    "filter(race == 1) %>%\n",
    "filter(age <33 | age >20) %>% \n",
    "filter(field_cd == c(5, 8,1,2,10,18))\n"
   ]
  },
  {
   "cell_type": "code",
   "execution_count": 24,
   "metadata": {
    "collapsed": false
   },
   "outputs": [
    {
     "name": "stderr",
     "output_type": "stream",
     "text": [
      "Warning message:\n",
      "In c(8L, 8L, 8L, 8L, 8L, 8L, 8L, 8L, 8L, 8L, 1L, 1L, 1L, 1L, 1L, : longer object length is not a multiple of shorter object length"
     ]
    },
    {
     "data": {
      "text/plain": [
       "\n",
       "  1   2   5   8  10 \n",
       " 23   9  29 124  52 "
      ]
     },
     "execution_count": 24,
     "metadata": {},
     "output_type": "execute_result"
    }
   ],
   "source": [
    "b_male_race2<-b_male %>%\n",
    "filter(race == 2) %>%\n",
    "filter(age <33 | age >20) %>% \n",
    "filter(field_cd == c(5, 8,1,2,10,18))\n",
    "table(b_male_race2$field_cd)"
   ]
  },
  {
   "cell_type": "code",
   "execution_count": 25,
   "metadata": {
    "collapsed": false
   },
   "outputs": [
    {
     "data": {
      "text/plain": [
       "\n",
       " 1  5  8 10 \n",
       " 3  3 16  2 "
      ]
     },
     "execution_count": 25,
     "metadata": {},
     "output_type": "execute_result"
    }
   ],
   "source": [
    "b_male_race3<-b_male %>%\n",
    "filter(race == 3) %>%\n",
    "filter(age <33 | age >20) %>% \n",
    "filter(field_cd == c(5, 8,1,2,10,18))\n",
    "table(b_male_race3$field_cd)"
   ]
  },
  {
   "cell_type": "code",
   "execution_count": 27,
   "metadata": {
    "collapsed": false
   },
   "outputs": [
    {
     "name": "stderr",
     "output_type": "stream",
     "text": [
      "Warning message:\n",
      "In c(1L, 1L, 1L, 1L, 1L, 1L, NA, NA, NA, NA, NA, NA, NA, NA, NA, : longer object length is not a multiple of shorter object length"
     ]
    },
    {
     "data": {
      "text/plain": [
       "\n",
       " 1  2  5  8 10 18 \n",
       " 7  8 19 41 16  2 "
      ]
     },
     "execution_count": 27,
     "metadata": {},
     "output_type": "execute_result"
    }
   ],
   "source": [
    "b_male_race4<-b_male %>%\n",
    "filter(race == 4) %>%\n",
    "filter(age <33 | age >20) %>% \n",
    "filter(field_cd == c(5, 8,1,2,10,18))\n",
    "table(b_male_race4$field_cd)"
   ]
  },
  {
   "cell_type": "code",
   "execution_count": 28,
   "metadata": {
    "collapsed": false
   },
   "outputs": [
    {
     "data": {
      "text/plain": [
       "\n",
       " 1  5  8 10 \n",
       " 8  5 11  2 "
      ]
     },
     "execution_count": 28,
     "metadata": {},
     "output_type": "execute_result"
    }
   ],
   "source": [
    "b_male_race6<-b_male %>%\n",
    "filter(race == 6) %>%\n",
    "filter(age <33 | age >20) %>% \n",
    "filter(field_cd == c(5, 8,1,2,10,18))\n",
    "table(b_male_race6$field_cd)"
   ]
  },
  {
   "cell_type": "code",
   "execution_count": 29,
   "metadata": {
    "collapsed": false
   },
   "outputs": [
    {
     "name": "stderr",
     "output_type": "stream",
     "text": [
      "Warning message:\n",
      "In rbind_all(x, .id): Unequal factor levels: coercing to characterWarning message:\n",
      "In rbind_all(x, .id): Unequal factor levels: coercing to characterWarning message:\n",
      "In rbind_all(x, .id): Unequal factor levels: coercing to characterWarning message:\n",
      "In rbind_all(x, .id): Unequal factor levels: coercing to characterWarning message:\n",
      "In rbind_all(x, .id): Unequal factor levels: coercing to characterWarning message:\n",
      "In rbind_all(x, .id): Unequal factor levels: coercing to characterWarning message:\n",
      "In rbind_all(x, .id): Unequal factor levels: coercing to characterWarning message:\n",
      "In rbind_all(x, .id): Unequal factor levels: coercing to character"
     ]
    }
   ],
   "source": [
    "bind_rows(a_male,b_male_race1,b_male_race2,b_male_race3,b_male_race4,b_male_race6) %>%\n",
    "write.csv(file=\"male_train_mix1.csv\")"
   ]
  },
  {
   "cell_type": "code",
   "execution_count": 30,
   "metadata": {
    "collapsed": false
   },
   "outputs": [
    {
     "name": "stderr",
     "output_type": "stream",
     "text": [
      "Warning message:\n",
      "In rbind_all(x, .id): Unequal factor levels: coercing to characterWarning message:\n",
      "In rbind_all(x, .id): Unequal factor levels: coercing to characterWarning message:\n",
      "In rbind_all(x, .id): Unequal factor levels: coercing to characterWarning message:\n",
      "In rbind_all(x, .id): Unequal factor levels: coercing to characterWarning message:\n",
      "In rbind_all(x, .id): Unequal factor levels: coercing to characterWarning message:\n",
      "In rbind_all(x, .id): Unequal factor levels: coercing to characterWarning message:\n",
      "In rbind_all(x, .id): Unequal factor levels: coercing to characterWarning message:\n",
      "In rbind_all(x, .id): Unequal factor levels: coercing to character"
     ]
    },
    {
     "name": "stdout",
     "output_type": "stream",
     "text": [
      "Classes ‘tbl_df’, ‘tbl’ and 'data.frame':\t1009 obs. of  197 variables:\n",
      " $ recordid: int  118 119 121 128 129 130 131 132 134 135 ...\n",
      " $ iid     : int  12 12 13 13 13 13 14 14 14 14 ...\n",
      " $ id      : int  2 2 3 3 3 3 4 4 4 4 ...\n",
      " $ gender  : int  1 1 1 1 1 1 1 1 1 1 ...\n",
      " $ idg     : int  4 4 6 6 6 6 8 8 8 8 ...\n",
      " $ condtn  : int  1 1 1 1 1 1 1 1 1 1 ...\n",
      " $ wave    : int  1 1 1 1 1 1 1 1 1 1 ...\n",
      " $ round   : int  10 10 10 10 10 10 10 10 10 10 ...\n",
      " $ position: int  10 1 7 10 1 2 7 3 6 4 ...\n",
      " $ positin1: int  NA NA NA NA NA NA NA NA NA NA ...\n",
      " $ order   : int  6 7 10 3 4 5 5 1 4 2 ...\n",
      " $ partner : int  8 9 1 8 9 10 1 2 4 5 ...\n",
      " $ pid     : int  8 9 1 8 9 10 1 2 4 5 ...\n",
      " $ match   : int  1 1 1 1 1 1 1 1 1 1 ...\n",
      " $ int_corr: num  -0.11 0.03 0.16 0.42 0.68 -0.15 0.61 -0.21 -0.18 0.08 ...\n",
      " $ samerace: int  1 0 1 0 0 0 0 1 1 1 ...\n",
      " $ age_o   : int  25 26 21 25 26 26 21 24 23 21 ...\n",
      " $ race_o  : int  2 6 4 2 6 2 4 2 2 2 ...\n",
      " $ pf_o_att: num  9.09 20 15 9.09 20 15 15 45 20 20 ...\n",
      " $ pf_o_sin: num  18.2 10 20 18.2 10 ...\n",
      " $ pf_o_int: num  27.3 20 20 27.3 20 ...\n",
      " $ pf_o_fun: num  18.2 30 15 18.2 30 ...\n",
      " $ pf_o_amb: num  18.2 10 15 18.2 10 ...\n",
      " $ pf_o_sha: num  9.09 10 15 9.09 10 5 15 5 10 15 ...\n",
      " $ dec_o   : int  1 1 1 1 1 1 1 1 1 1 ...\n",
      " $ attr_o  : num  8 10 5 5 5 6 7 7 8 8 ...\n",
      " $ sinc_o  : num  7 10 8 8 10 10 6 9 10 5 ...\n",
      " $ intel_o : num  7 10 9 8 10 10 8 7 7 5 ...\n",
      " $ fun_o   : num  9 10 8 6 6 10 7 6 10 7 ...\n",
      " $ amb_o   : num  6 10 5 7 6 6 6 5 7 7 ...\n",
      " $ shar_o  : num  7 10 7 7 6 NA 8 7 10 9 ...\n",
      " $ like_o  : num  8 10 7 5 8 7 7 7 8 8 ...\n",
      " $ prob_o  : num  7 5 NA 5 5 6 6 8 10 2 ...\n",
      " $ met_o   : int  2 2 1 2 2 2 2 2 1 1 ...\n",
      " $ age     : int  22 22 22 22 22 22 23 23 23 23 ...\n",
      " $ field   : chr  \"Law\" \"Law\" \"Law\" \"Law\" ...\n",
      " $ field_cd: int  1 1 1 1 1 1 1 1 1 1 ...\n",
      " $ undergra: chr  \"\" \"\" \"\" \"\" ...\n",
      " $ mn_sat  : chr  \"\" \"\" \"\" \"\" ...\n",
      " $ tuition : chr  \"\" \"\" \"\" \"\" ...\n",
      " $ race    : int  2 2 4 4 4 4 2 2 2 2 ...\n",
      " $ imprace : int  1 1 3 3 3 3 1 1 1 1 ...\n",
      " $ imprelig: int  1 1 5 5 5 5 1 1 1 1 ...\n",
      " $ from    : chr  \"England\" \"England\" \"Southern California\" \"Southern California\" ...\n",
      " $ zipcode : chr  \"14,850\" \"14,850\" \"92,821\" \"92,821\" ...\n",
      " $ income  : chr  \"29,237.00\" \"29,237.00\" \"\" \"\" ...\n",
      " $ goal    : int  1 1 2 2 2 2 2 2 2 2 ...\n",
      " $ date    : int  1 1 7 7 7 7 4 4 4 4 ...\n",
      " $ go_out  : int  1 1 1 1 1 1 1 1 1 1 ...\n",
      " $ career  : chr  \"Corporate Lawyer\" \"Corporate Lawyer\" \"Lawyer\" \"Lawyer\" ...\n",
      " $ career_c: int  1 1 1 1 1 1 1 1 1 1 ...\n",
      " $ sports  : int  9 9 7 7 7 7 10 10 10 10 ...\n",
      " $ tvsports: int  7 7 8 8 8 8 6 6 6 6 ...\n",
      " $ exercise: int  9 9 2 2 2 2 8 8 8 8 ...\n",
      " $ dining  : int  8 8 9 9 9 9 8 8 8 8 ...\n",
      " $ museums : int  7 7 5 5 5 5 3 3 3 3 ...\n",
      " $ art     : int  6 6 6 6 6 6 3 3 3 3 ...\n",
      " $ hiking  : int  3 3 4 4 4 4 10 10 10 10 ...\n",
      " $ gaming  : int  3 3 7 7 7 7 8 8 8 8 ...\n",
      " $ clubbing: int  5 5 7 7 7 7 8 8 8 8 ...\n",
      " $ reading : int  6 6 6 6 6 6 6 6 6 6 ...\n",
      " $ tv      : int  6 6 8 8 8 8 7 7 7 7 ...\n",
      " $ theater : int  4 4 10 10 10 10 3 3 3 3 ...\n",
      " $ movies  : int  7 7 8 8 8 8 10 10 10 10 ...\n",
      " $ concerts: int  7 7 9 9 9 9 6 6 6 6 ...\n",
      " $ music   : int  9 9 9 9 9 9 8 8 8 8 ...\n",
      " $ shopping: int  5 5 8 8 8 8 6 6 6 6 ...\n",
      " $ yoga    : int  5 5 1 1 1 1 1 1 1 1 ...\n",
      " $ exphappy: int  7 7 3 3 3 3 8 8 8 8 ...\n",
      " $ expnum  : int  20 20 4 4 4 4 15 15 15 15 ...\n",
      " $ attr1_1 : num  60 60 19 19 19 19 30 30 30 30 ...\n",
      " $ sinc1_1 : num  0 0 18 18 18 18 5 5 5 5 ...\n",
      " $ intel1_1: num  0 0 19 19 19 19 15 15 15 15 ...\n",
      " $ fun1_1  : num  40 40 18 18 18 18 40 40 40 40 ...\n",
      " $ amb1_1  : num  0 0 14 14 14 14 5 5 5 5 ...\n",
      " $ shar1_1 : num  0 0 12 12 12 12 5 5 5 5 ...\n",
      " $ attr4_1 : int  NA NA NA NA NA NA NA NA NA NA ...\n",
      " $ sinc4_1 : int  NA NA NA NA NA NA NA NA NA NA ...\n",
      " $ intel4_1: int  NA NA NA NA NA NA NA NA NA NA ...\n",
      " $ fun4_1  : int  NA NA NA NA NA NA NA NA NA NA ...\n",
      " $ amb4_1  : int  NA NA NA NA NA NA NA NA NA NA ...\n",
      " $ shar4_1 : int  NA NA NA NA NA NA NA NA NA NA ...\n",
      " $ attr2_1 : num  25 25 20 20 20 20 20 20 20 20 ...\n",
      " $ sinc2_1 : num  15 15 16 16 16 16 15 15 15 15 ...\n",
      " $ intel2_1: num  25 25 16 16 16 16 20 20 20 20 ...\n",
      " $ fun2_1  : num  20 20 18 18 18 18 20 20 20 20 ...\n",
      " $ amb2_1  : num  15 15 16 16 16 16 5 5 5 5 ...\n",
      " $ shar2_1 : num  0 0 14 14 14 14 20 20 20 20 ...\n",
      " $ attr3_1 : int  9 9 4 4 4 4 9 9 9 9 ...\n",
      " $ sinc3_1 : int  9 9 7 7 7 7 9 9 9 9 ...\n",
      " $ fun3_1  : int  9 9 8 8 8 8 9 9 9 9 ...\n",
      " $ intel3_1: int  10 10 8 8 8 8 9 9 9 9 ...\n",
      " $ amb3_1  : int  9 9 3 3 3 3 9 9 9 9 ...\n",
      " $ attr5_1 : int  NA NA NA NA NA NA NA NA NA NA ...\n",
      " $ sinc5_1 : int  NA NA NA NA NA NA NA NA NA NA ...\n",
      " $ intel5_1: int  NA NA NA NA NA NA NA NA NA NA ...\n",
      " $ fun5_1  : int  NA NA NA NA NA NA NA NA NA NA ...\n",
      " $ amb5_1  : int  NA NA NA NA NA NA NA NA NA NA ...\n",
      " $ dec     : int  1 1 1 1 1 1 1 1 1 1 ...\n",
      "  [list output truncated]\n"
     ]
    }
   ],
   "source": [
    "bind_rows(a_male,b_male_race1,b_male_race2,b_male_race3,b_male_race4,b_male_race6) %>%\n",
    "str()"
   ]
  },
  {
   "cell_type": "code",
   "execution_count": null,
   "metadata": {
    "collapsed": true
   },
   "outputs": [],
   "source": []
  }
 ],
 "metadata": {
  "kernelspec": {
   "display_name": "R",
   "language": "R",
   "name": "ir"
  },
  "language_info": {
   "codemirror_mode": "r",
   "file_extension": ".r",
   "mimetype": "text/x-r-source",
   "name": "R",
   "pygments_lexer": "r",
   "version": "3.2.2"
  }
 },
 "nbformat": 4,
 "nbformat_minor": 0
}
